{
 "cells": [
  {
   "cell_type": "code",
   "execution_count": null,
   "id": "dfdcf2cc-a244-4993-a7ee-80e6d000d514",
   "metadata": {},
   "outputs": [],
   "source": [
    "#only run if not already in environment\n",
    "!pip install surprise"
   ]
  },
  {
   "cell_type": "code",
   "execution_count": null,
   "id": "aaca69bc",
   "metadata": {},
   "outputs": [],
   "source": [
    "import pandas as pd\n",
    "import numpy as np\n",
    "import matplotlib.pyplot as plt\n",
    "import seaborn as sns\n",
    "np.random.seed(1)\n",
    "\n",
    "# Workshop Functions\\n\",\n",
    "import sys\n",
    "sys.path.append('..')\n",
    "from WKDSS420_functions import * "
   ]
  },
  {
   "cell_type": "code",
   "execution_count": null,
   "id": "9b4eeef5",
   "metadata": {},
   "outputs": [],
   "source": [
    "from surprise import Dataset\n",
    "from surprise import Reader"
   ]
  },
  {
   "cell_type": "markdown",
   "id": "275bd425",
   "metadata": {},
   "source": [
    "Scikit-surprise information can be found here: https://pypi.org/project/scikit-surprise/"
   ]
  },
  {
   "cell_type": "code",
   "execution_count": null,
   "id": "3fbd9ec1",
   "metadata": {},
   "outputs": [],
   "source": [
    "df = pd.read_csv('MovieLensCombined.csv')\n",
    "df.head()\n",
    "# item_id corresponds to a unique movie title"
   ]
  },
  {
   "cell_type": "markdown",
   "id": "b1efc3d9",
   "metadata": {},
   "source": [
    "### Data Exploration"
   ]
  },
  {
   "cell_type": "code",
   "execution_count": null,
   "id": "5351bd20",
   "metadata": {},
   "outputs": [],
   "source": [
    "df.info()\n",
    "# we see that there are 100K observations, mean rating is high at 3.5"
   ]
  },
  {
   "cell_type": "code",
   "execution_count": null,
   "id": "e7ffc67d",
   "metadata": {},
   "outputs": [],
   "source": [
    "df.drop(['Unnamed: 0'],axis=1,inplace=True)\n",
    "\n",
    "# Need to convert user_id, item_id, timestamp to string\n",
    "df['user_id'] = df['user_id'].astype(str)\n",
    "df['item_id'] = df['item_id'].astype(str)\n",
    "df['timestamp'] = df['timestamp'].astype(str)\n",
    "df.info()"
   ]
  },
  {
   "cell_type": "code",
   "execution_count": null,
   "id": "9ad87e04",
   "metadata": {},
   "outputs": [],
   "source": [
    "df.loc[:,'user_id'].nunique() # number of unique users"
   ]
  },
  {
   "cell_type": "code",
   "execution_count": null,
   "id": "a953f5f4",
   "metadata": {},
   "outputs": [],
   "source": [
    "df.loc[:,'item_id'].nunique() # number of unique movies (items)"
   ]
  },
  {
   "cell_type": "code",
   "execution_count": null,
   "id": "3fd1e064",
   "metadata": {
    "scrolled": true
   },
   "outputs": [],
   "source": [
    "mean_ratings = df.groupby('title')['rating'].mean()\n",
    "plt.hist(mean_ratings, bins=70)\n",
    "plt.show()\n",
    "# we see some spikes around the whole numbers, which are the rating options given to the users.  \n",
    "# We're also seeing a large spike at 3.0.  This is because if a movies was not particularly good or bad in my opinion, \n",
    "# ...I split the difference and give it a 3.  And it seems many users do the same.\n",
    "# Also there is a large spike of 1.0 or bad movies.  "
   ]
  },
  {
   "cell_type": "code",
   "execution_count": null,
   "id": "448fda7b",
   "metadata": {},
   "outputs": [],
   "source": [
    "# let's sort so the highest rated movies are on the top\n",
    "mean_ratings.sort_values(ascending=False)"
   ]
  },
  {
   "cell_type": "markdown",
   "id": "cdd325e8",
   "metadata": {},
   "source": [
    "You'll notice that the highest rated movies are relatively unknown or limited release.  That's because these were probably rated by just one or a handful of viewers who all loved the movie.  But such a small number of raters for a movie is not representative of the general public.  \n",
    "\n",
    "To see a better effect, try grouping by the count instead of the mean"
   ]
  },
  {
   "cell_type": "code",
   "execution_count": null,
   "id": "d25a82d1",
   "metadata": {},
   "outputs": [],
   "source": [
    "num_of_ratings = df.groupby('title')['rating'].count().sort_values(ascending=False)\n",
    "# these movies are much more what we would think of when we think of generally popular movies.\n",
    "num_of_ratings.head()"
   ]
  },
  {
   "cell_type": "code",
   "execution_count": null,
   "id": "4d1cf7b0",
   "metadata": {},
   "outputs": [],
   "source": [
    "# More advanced method that shows the mean and the count, sorted by count.\n",
    "df.groupby('title')['rating'].agg(['count', 'mean']).sort_values(by='count', ascending=False)\n",
    "# these movies are much more what we would think of when we think of generally popular movies."
   ]
  },
  {
   "cell_type": "code",
   "execution_count": null,
   "id": "05843789",
   "metadata": {},
   "outputs": [],
   "source": [
    "# OPTIONAL: when you get more people rating a movie, you start getting a normal distribution of ratings.  \n",
    "df.loc[df.loc[:,'title']=='Contact (1997)','rating'].hist(bins=5)"
   ]
  },
  {
   "cell_type": "code",
   "execution_count": null,
   "id": "49992201",
   "metadata": {},
   "outputs": [],
   "source": [
    "# Let's store this in a dataframe to use later\n",
    "df2 = df.groupby('title')['rating'].agg(['count', 'mean']).sort_values(by='count', ascending=False)\n",
    "df2.columns = ['num_of_ratings', 'mean_rating']\n",
    "df2.head()"
   ]
  },
  {
   "cell_type": "code",
   "execution_count": null,
   "id": "6d9f60f2",
   "metadata": {},
   "outputs": [],
   "source": [
    "df2.loc['They Made Me a Criminal (1939)','num_of_ratings']\n",
    "# the more unknown movies have one 1 rating"
   ]
  },
  {
   "cell_type": "code",
   "execution_count": null,
   "id": "9d9ce55a",
   "metadata": {
    "scrolled": true
   },
   "outputs": [],
   "source": [
    "# what are these movies with just one rating?\n",
    "df2.loc[df2.loc[:,'num_of_ratings']<2,:]"
   ]
  },
  {
   "cell_type": "code",
   "execution_count": null,
   "id": "e802c041",
   "metadata": {},
   "outputs": [],
   "source": [
    "df2.loc[df2.loc[:,'num_of_ratings']<2,'num_of_ratings'].count()\n",
    "# 134 movies with just one rating.  This will affect our predictions later on."
   ]
  },
  {
   "cell_type": "code",
   "execution_count": null,
   "id": "9f275b4e",
   "metadata": {},
   "outputs": [],
   "source": [
    "df2.loc[:,'num_of_ratings'].hist(bins=70)\n",
    "plt.show()"
   ]
  },
  {
   "cell_type": "markdown",
   "id": "4d7b7ba9",
   "metadata": {},
   "source": [
    "This plot shows the number of ratings that each movie got.  Most movies have just a few ratings.  There are a lot of movies that got only a handful of reviewers.  Most movies are not blockbusters, and so there are only a few that are in the large count range on the right hand side of the histogram.  \n",
    "\n",
    "Finally, let's check the relationship between average rating and the number of ratings"
   ]
  },
  {
   "cell_type": "code",
   "execution_count": null,
   "id": "814d9bcd",
   "metadata": {},
   "outputs": [],
   "source": [
    "ax = sns.scatterplot(x=df2.loc[:,'mean_rating'], y=df2.loc[:,'num_of_ratings'])\n",
    "ax.text(1.5,500,'More popular movies,\\nRated by many',color='red',fontsize=14)\n",
    "ax.text(5,5,'Less popular movie, \\nRated by few similar viewers ',color='red',fontsize=14)"
   ]
  },
  {
   "cell_type": "markdown",
   "id": "069efd5a",
   "metadata": {},
   "source": [
    "We see that there is some relationship betwen the 2 variables, generally showing that as the number of ratings goes up, the overall value of the ratings goes up too (positive trend).  \n",
    "\n",
    "Most of the popular movies with >500 reviews are popular and above the 3.5 mean.  And movies with very few reviwers span the gamut from 1-5 stars.  "
   ]
  },
  {
   "cell_type": "markdown",
   "id": "566ec5be",
   "metadata": {},
   "source": [
    "### Convert data to scikit-surprise format"
   ]
  },
  {
   "cell_type": "code",
   "execution_count": null,
   "id": "01350c5c",
   "metadata": {},
   "outputs": [],
   "source": [
    "df.head()"
   ]
  },
  {
   "cell_type": "code",
   "execution_count": null,
   "id": "8cde5d1b",
   "metadata": {},
   "outputs": [],
   "source": [
    "from surprise import Dataset, Reader\n",
    "reader = Reader(rating_scale=(1, 5))\n",
    "# From the library author: \"The columns must correspond to user id, item id and ratings (in that order).\"\n",
    "data = Dataset.load_from_df(df[[\"user_id\", \"item_id\", \"rating\"]], reader)"
   ]
  },
  {
   "cell_type": "markdown",
   "id": "a33f4893",
   "metadata": {},
   "source": [
    "### Cosine Similarity\n",
    "Let's do the cosine similarity to find recommendations from users that are similar to a target user. This is a **memory-based** collaborative filter which we discussed in the lecture.  \n",
    "\n",
    "We will user K-Near Neighbors to find the *K* users that are closest to the target user as determined through the cosine similarity between them, where similar users will have a smaller angle between the vectors representing the users."
   ]
  },
  {
   "cell_type": "code",
   "execution_count": null,
   "id": "9487c293",
   "metadata": {},
   "outputs": [],
   "source": [
    "from surprise import KNNWithMeans\n",
    "# To use item-based cosine similarity\n",
    "sim_options = {\n",
    "    \"name\": \"cosine\",\n",
    "    \"user_based\": True  # Compute  similarities between users (False = between items, which is Content Based Filtering)\n",
    "}\n",
    "algo = KNNWithMeans(sim_options=sim_options)"
   ]
  },
  {
   "cell_type": "code",
   "execution_count": null,
   "id": "a619c4af",
   "metadata": {},
   "outputs": [],
   "source": [
    "from surprise.model_selection import train_test_split\n",
    "trainset, testset = train_test_split(data, test_size=0.25)\n",
    "\n",
    "algo.fit(trainset)"
   ]
  },
  {
   "cell_type": "code",
   "execution_count": null,
   "id": "4b5092ce",
   "metadata": {},
   "outputs": [],
   "source": [
    "prediction = algo.predict(2, 19) #(user, item_id)\n",
    "prediction.est"
   ]
  },
  {
   "cell_type": "code",
   "execution_count": null,
   "id": "1e279587",
   "metadata": {},
   "outputs": [],
   "source": [
    "predictions = algo.test(testset)\n",
    "\n",
    "from surprise import accuracy\n",
    "accuracy.rmse(predictions)"
   ]
  },
  {
   "cell_type": "code",
   "execution_count": null,
   "id": "2e28de06",
   "metadata": {},
   "outputs": [],
   "source": [
    "top_n = get_top_n(predictions, n=3)"
   ]
  },
  {
   "cell_type": "markdown",
   "id": "43087e4a-e55e-4b99-b174-d59b06eccc2f",
   "metadata": {},
   "source": [
    "### Exploring One User's Recommendation"
   ]
  },
  {
   "cell_type": "code",
   "execution_count": null,
   "id": "1a0d91fc",
   "metadata": {},
   "outputs": [],
   "source": [
    "# Get the top 3 movie recommendations for user 1\n",
    "top_n['1']"
   ]
  },
  {
   "cell_type": "code",
   "execution_count": null,
   "id": "f785067d",
   "metadata": {},
   "outputs": [],
   "source": [
    "# What are the top movies the person has rated:\n",
    "df_1 = df.loc[df.loc[:,'user_id']=='1',['item_id','title','rating']].sort_values(by='rating',ascending=False)\n",
    "df_1 = df_1.set_index('item_id')\n",
    "df_1.head(10)"
   ]
  },
  {
   "cell_type": "markdown",
   "id": "7a587e7d-3af3-4c80-96f2-c3b22872f6d4",
   "metadata": {
    "jp-MarkdownHeadingCollapsed": true
   },
   "source": [
    "#### Full Recommendation List"
   ]
  },
  {
   "cell_type": "code",
   "execution_count": null,
   "id": "1d0e8f5b",
   "metadata": {},
   "outputs": [],
   "source": [
    "# Print the recommended items for each user\n",
    "for uid, user_ratings in top_n.items():\n",
    "    print(f\"For User ID: {uid}\")\n",
    "    for title, rating in user_ratings:\n",
    "        print(f\"  ID/Title: [{title.name}] {title[0]}\")"
   ]
  },
  {
   "cell_type": "markdown",
   "id": "5957de43",
   "metadata": {
    "jp-MarkdownHeadingCollapsed": true
   },
   "source": [
    "### What Happened???\n",
    "User 1 has rated many popular movies very high.  So why is the recommender suggesting movies that very few people have watched? \n",
    "\n",
    "Remember that there were a lot of movies that were mostly unknown, had just 1 or 2 reviewers that rated them 5 stars?  These are affecting the recommendations of movies.  \n",
    "\n",
    "***Curiosity Points (15 points)*** In the original dataframe **df** filter out the movies that have just a few reviews.  Play around with the threshold until you start getting good recommendations.  "
   ]
  },
  {
   "cell_type": "markdown",
   "id": "b18bf902",
   "metadata": {
    "jp-MarkdownHeadingCollapsed": true
   },
   "source": [
    "#### Plotting cosine similarities"
   ]
  },
  {
   "cell_type": "code",
   "execution_count": null,
   "id": "807d80e5",
   "metadata": {},
   "outputs": [],
   "source": [
    "# First create a blank matrix to hold a 0 if a movie was not rated, and the user rating otherwise\n",
    "recArr = np.zeros((3,1682))"
   ]
  },
  {
   "cell_type": "code",
   "execution_count": null,
   "id": "eb89933a",
   "metadata": {},
   "outputs": [],
   "source": [
    "u1 = np.array(df.loc[ df.loc[:,'user_id']=='1', ['item_id','rating' ]])\n",
    "u2 = np.array(df.loc[ df.loc[:,'user_id']=='2', ['item_id','rating' ]])\n",
    "u3 = np.array(df.loc[ df.loc[:,'user_id']=='3', ['item_id','rating' ]])"
   ]
  },
  {
   "cell_type": "code",
   "execution_count": null,
   "id": "c2c48be7",
   "metadata": {},
   "outputs": [],
   "source": [
    "np.array(u1).shape"
   ]
  },
  {
   "cell_type": "code",
   "execution_count": null,
   "id": "3b06d63e",
   "metadata": {},
   "outputs": [],
   "source": [
    "counter=0\n",
    "for x in [u1,u2,u3]:    \n",
    "    r,c = x.shape\n",
    "    for y in range(r):\n",
    "        recArr[counter,int(x[y,0])] = x[y,1]\n",
    "    counter = counter+1\n",
    "    \n",
    "recArr[:,0:10] "
   ]
  },
  {
   "cell_type": "code",
   "execution_count": null,
   "id": "fd469b74",
   "metadata": {},
   "outputs": [],
   "source": [
    "mags = np.linalg.norm(recArr, axis=1)\n",
    "dots01 = np.dot(recArr[0,:],recArr[1,:])\n",
    "dots02 = np.dot(recArr[0,:],recArr[2,:])\n",
    "\n",
    "Angle01 = dots01/(mags[0]*mags[1]) \n",
    "Angle02 = dots01/(mags[0]*mags[2]) \n",
    "print(mags)\n",
    "print(Angle01, Angle02)\n",
    "\n",
    "Angle01Rad = Angle01/np.pi\n",
    "Angle02Rad = Angle02/np.pi\n",
    "\n",
    "u01Coord = mags[1]*np.array([np.cos(Angle01Rad),np.sin(Angle01Rad)])\n",
    "print(u01Coord)\n",
    "\n",
    "u02Coord = mags[2]*np.array([np.cos(Angle02Rad),np.sin(Angle02Rad)])\n",
    "print(u02Coord)"
   ]
  },
  {
   "cell_type": "code",
   "execution_count": null,
   "id": "a3911304",
   "metadata": {},
   "outputs": [],
   "source": [
    "# We have the vector magnitudes and angles - let's plot\n",
    "V = np.array([[mags[0],1],u01Coord, u02Coord])\n",
    "origin = np.array([[0, 0, 0],[0, 0, 0]]) # origin point\n",
    "\n",
    "plt.quiver(*origin, V[:,0], V[:,1], color=['r','b','g'], scale=151)"
   ]
  },
  {
   "cell_type": "markdown",
   "id": "60f15063",
   "metadata": {
    "jp-MarkdownHeadingCollapsed": true
   },
   "source": [
    "#### Running a Grid Search \n",
    "A grid search allows you to specify various options for your hyper-parameters of your recommender algorithm.  The **gridsearch** will then go through each option and you can retrieve the best option.  "
   ]
  },
  {
   "cell_type": "code",
   "execution_count": null,
   "id": "dd354c39",
   "metadata": {},
   "outputs": [],
   "source": [
    "from surprise import KNNWithMeans\n",
    "\n",
    "help(KNNWithMeans)"
   ]
  },
  {
   "cell_type": "code",
   "execution_count": null,
   "id": "672dbc37",
   "metadata": {},
   "outputs": [],
   "source": [
    "param_grid = {\n",
    "    'k' : [3,5,10,20,40],\n",
    "    'sim_options': {\n",
    "        'name' : ['msd','cosine'], \n",
    "        'user_based': [True, False],\n",
    "    },\n",
    "}\n",
    "# \"msd\" = MSE (Mean Square Error)"
   ]
  },
  {
   "cell_type": "code",
   "execution_count": null,
   "id": "579119ad",
   "metadata": {},
   "outputs": [],
   "source": [
    "from surprise.model_selection import GridSearchCV\n",
    "\n",
    "gs = GridSearchCV(KNNWithMeans, param_grid, measures=[\"rmse\",\"mae\"],cv=None)\n",
    "gs.fit(data)\n",
    "\n",
    "results_df = pd.DataFrame.from_dict(gs.cv_results)\n",
    "results_df.loc[:,'params']"
   ]
  },
  {
   "cell_type": "code",
   "execution_count": null,
   "id": "492e9ddc",
   "metadata": {},
   "outputs": [],
   "source": [
    "print(gs.best_score)\n",
    "print(gs.best_params)"
   ]
  },
  {
   "cell_type": "markdown",
   "id": "61dc9920",
   "metadata": {},
   "source": [
    "### Recommender System with Matrix Factorization\n",
    "Here we will practice how to use Matrix Factorization with Singular Vector Decomposition (SVD).  \n",
    "\n",
    "An excellent description of SVD can be found here if you wish to explore: https://towardsdatascience.com/understanding-singular-value-decomposition-and-its-application-in-data-science-388a54be95d"
   ]
  },
  {
   "cell_type": "code",
   "execution_count": null,
   "id": "c21a4212",
   "metadata": {},
   "outputs": [],
   "source": [
    "from surprise.model_selection import train_test_split\n",
    "trainset, testset = train_test_split(data, test_size=0.25)"
   ]
  },
  {
   "cell_type": "code",
   "execution_count": null,
   "id": "50a2af2f",
   "metadata": {},
   "outputs": [],
   "source": [
    "from surprise import SVD, accuracy\n",
    "algo = SVD(n_factors=2) # default is 100\n",
    "algo.fit(trainset)"
   ]
  },
  {
   "cell_type": "code",
   "execution_count": null,
   "id": "537933a7",
   "metadata": {},
   "outputs": [],
   "source": [
    "user_factors = algo.pu\n",
    "item_factors = algo.qi"
   ]
  },
  {
   "cell_type": "code",
   "execution_count": null,
   "id": "75807f6c",
   "metadata": {},
   "outputs": [],
   "source": [
    "predictions = algo.test(testset)"
   ]
  },
  {
   "cell_type": "code",
   "execution_count": null,
   "id": "ff57ae85",
   "metadata": {},
   "outputs": [],
   "source": [
    "from surprise import accuracy\n",
    "accuracy.rmse(predictions)"
   ]
  },
  {
   "cell_type": "markdown",
   "id": "d513f246",
   "metadata": {},
   "source": [
    "**Online User Results** For reference, this website (https://surpriselib.com/) shows the results for different combinations of parameters for this dataset (\"Movielens 100k\")"
   ]
  },
  {
   "cell_type": "code",
   "execution_count": null,
   "id": "e0455d09",
   "metadata": {},
   "outputs": [],
   "source": [
    "top_n = get_top_n(predictions, n=6)"
   ]
  },
  {
   "cell_type": "code",
   "execution_count": null,
   "id": "908342d5-6bac-477d-abb4-924dca0aed48",
   "metadata": {},
   "outputs": [],
   "source": [
    "top_n['1']"
   ]
  },
  {
   "cell_type": "markdown",
   "id": "1c1a0bb0",
   "metadata": {},
   "source": [
    "####  Grid search\n",
    "Let's do a grid search with various parameters to see which are best for this dataset.  You can set any of the parameters for the SVD function described here (https://surprise.readthedocs.io/en/stable/matrix_factorization.html#surprise.prediction_algorithms.matrix_factorization.SVD) in the **param_grid** dict"
   ]
  },
  {
   "cell_type": "code",
   "execution_count": null,
   "id": "fa008c66",
   "metadata": {},
   "outputs": [],
   "source": [
    "from surprise.model_selection import GridSearchCV\n",
    "\n",
    "param_grid = {\"n_epochs\": [5, 10,15,20], \"lr_all\": [0.001, 0.002, 0.005,0.010],\"n_factors\" : [2,10,100]}\n",
    "gs = GridSearchCV(SVD, param_grid, measures=[\"rmse\", \"mae\"], cv=None)\n",
    "\n",
    "gs.fit(data)\n",
    "\n",
    "# best RMSE score\n",
    "print(gs.best_score)\n",
    "\n",
    "# combination of parameters that gave the best RMSE score\n",
    "print(gs.best_params)"
   ]
  },
  {
   "cell_type": "code",
   "execution_count": null,
   "id": "3d95f755",
   "metadata": {},
   "outputs": [],
   "source": []
  }
 ],
 "metadata": {
  "kernelspec": {
   "display_name": "Python 3 (ipykernel)",
   "language": "python",
   "name": "python3"
  },
  "language_info": {
   "codemirror_mode": {
    "name": "ipython",
    "version": 3
   },
   "file_extension": ".py",
   "mimetype": "text/x-python",
   "name": "python",
   "nbconvert_exporter": "python",
   "pygments_lexer": "ipython3",
   "version": "3.11.9"
  }
 },
 "nbformat": 4,
 "nbformat_minor": 5
}
